{
 "cells": [
  {
   "cell_type": "code",
   "execution_count": null,
   "id": "f322535e",
   "metadata": {},
   "outputs": [],
   "source": [
    "#!pip install pyglet==1.5.27\n"
   ]
  },
  {
   "cell_type": "code",
   "execution_count": 2,
   "id": "d8b69607",
   "metadata": {},
   "outputs": [],
   "source": [
    "import gym\n",
    "\n",
    "from stable_baselines3 import A2C\n",
    "from stable_baselines3.common.env_util import make_vec_env\n",
    "import numpy as np\n",
    "from game.simulator import PricingGame\n",
    "from agent.random_agent import RandomAgent\n",
    "\n",
    "#from pyglet.gl import *\n",
    "\n",
    "# # Parallel environments\n",
    "# env = make_vec_env(\"CartPole-v1\", n_envs=4)\n",
    "\n",
    "# model = A2C(\"MlpPolicy\", env, verbose=1)\n",
    "# model.learn(total_timesteps=25000)\n",
    "# model.save(\"a2c_cartpole\")\n",
    "\n",
    "# del model # remove to demonstrate saving and loading\n",
    "\n",
    "# model = A2C.load(\"a2c_cartpole\")\n",
    "\n",
    "# obs = env.reset()\n",
    "# while True:\n",
    "#     action, _states = model.predict(obs)\n",
    "#     obs, rewards, dones, info = env.step(action)\n",
    "#     #env.render()"
   ]
  },
  {
   "cell_type": "code",
   "execution_count": null,
   "id": "63a2bbd3",
   "metadata": {
    "scrolled": true
   },
   "outputs": [
    {
     "name": "stdout",
     "output_type": "stream",
     "text": [
      "Using cpu device\n"
     ]
    }
   ],
   "source": [
    "from game.pricing_env import PricingGameEnv\n",
    "from data.generator import SimpleDemandGenerator\n",
    "from functools import partial\n",
    "np.seterr(all='raise') \n",
    "\n",
    "\n",
    "n = 100\n",
    "n_envs = 10\n",
    "generator = SimpleDemandGenerator()\n",
    "env_class = partial(PricingGameEnv, generator, n)\n",
    "\n",
    "env = make_vec_env(env_class, n_envs=n_envs)\n",
    "\n",
    "\n",
    "\n",
    "model = A2C(\"MultiInputPolicy\", env, verbose=1)\n",
    "model.learn(total_timesteps=5000)\n",
    "\n",
    "obs = env.reset()\n",
    "done = [False]\n",
    "rewards = []\n",
    "states = []\n",
    "actions = []\n",
    "cws = []\n",
    "total_reward = [0.0]*n_envs\n",
    "while not all(done):\n",
    "    action, _states = model.predict(obs)\n",
    "    #print(action)\n",
    "    obs, rewards, done, info = env.step(action)\n",
    "    #env.render(mode=\"plotly\")\n",
    "    states.append(env.envs[0].env.get_state())\n",
    "    print(\"cw\", env.envs[0].env.current_cw)\n",
    "    print(\"rew\", rewards[0])\n",
    "#     print(\"acc revenues\",sum([r.sum() for r in env.envs[0].env.revenues]) )\n",
    "    actions.append(action[0])\n",
    "    total_reward+=rewards\n",
    "print(total_reward)"
   ]
  },
  {
   "cell_type": "code",
   "execution_count": null,
   "id": "6fe647a9",
   "metadata": {},
   "outputs": [],
   "source": [
    "states[-2].visualize()"
   ]
  },
  {
   "cell_type": "code",
   "execution_count": null,
   "id": "c40860d0",
   "metadata": {},
   "outputs": [],
   "source": [
    "env2 = PricingGameEnv(generator, n)\n",
    "simulator = PricingGame(generator, n)\n",
    "agent =  RandomAgent()\n"
   ]
  },
  {
   "cell_type": "code",
   "execution_count": null,
   "id": "e47b7252",
   "metadata": {
    "scrolled": false
   },
   "outputs": [],
   "source": [
    "state = None\n",
    "reward = 0\n",
    "done = False\n",
    "env2.reset()\n",
    "total_reward = 0\n",
    "while not done:\n",
    "    discounts =  np.float32([10.0]*100)#agent.act(simulator)\n",
    "    obs, reward, done, info = env2.step(np.array(discounts))\n",
    "    total_reward+=reward\n",
    "print(total_reward)\n",
    "env2.get_state().visualize()"
   ]
  },
  {
   "cell_type": "code",
   "execution_count": null,
   "id": "65111384",
   "metadata": {},
   "outputs": [],
   "source": [
    "print(env2.get_final_score())\n"
   ]
  },
  {
   "cell_type": "code",
   "execution_count": null,
   "id": "ccfb1ae0",
   "metadata": {},
   "outputs": [],
   "source": [
    "[r.sum() for r in env2.sales]"
   ]
  },
  {
   "cell_type": "code",
   "execution_count": null,
   "id": "8806a2f3",
   "metadata": {},
   "outputs": [],
   "source": [
    " (env2.stocks[-1] * env2.black_prices).sum()"
   ]
  }
 ],
 "metadata": {
  "kernelspec": {
   "display_name": "Python 3 (ipykernel)",
   "language": "python",
   "name": "python3"
  },
  "language_info": {
   "codemirror_mode": {
    "name": "ipython",
    "version": 3
   },
   "file_extension": ".py",
   "mimetype": "text/x-python",
   "name": "python",
   "nbconvert_exporter": "python",
   "pygments_lexer": "ipython3",
   "version": "3.9.7"
  }
 },
 "nbformat": 4,
 "nbformat_minor": 5
}
